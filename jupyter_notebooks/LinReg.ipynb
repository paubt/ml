{
 "cells": [
  {
   "cell_type": "markdown",
   "metadata": {},
   "source": [
    "# Linear Regression"
   ]
  },
  {
   "cell_type": "markdown",
   "metadata": {},
   "source": [
    "\n",
    "### Für p dimensionen  \n",
    "$ f(X)=\\beta_{0}+\\sum_{j=1}^{p}X_{j}\\beta_{j}$\n",
    "*   $X$ := input vector\n",
    "*   $\\beta$ := regression coefficients\n",
    "\n",
    "### Für p=1 (sinus beispiel)\n",
    "$ f(x)=\\beta_{0}+x\\beta_{1}$\n"
   ]
  },
  {
   "cell_type": "code",
   "execution_count": 1,
   "metadata": {},
   "outputs": [],
   "source": [
    "import math\n",
    "import random\n",
    "random.seed(42)\n",
    "import numpy as np\n",
    "import matplotlib.pyplot as plt"
   ]
  },
  {
   "cell_type": "markdown",
   "metadata": {},
   "source": [
    "### constants\n"
   ]
  },
  {
   "cell_type": "code",
   "execution_count": 2,
   "metadata": {},
   "outputs": [],
   "source": [
    "sample_size = 3\n",
    "# dim x [0,10]\n",
    "dim_x_min = 0\n",
    "dim_x_max = 10\n",
    "# dim y [0,4]\n",
    "dim_y_min = 0\n",
    "dim_y_max = 4"
   ]
  },
  {
   "cell_type": "markdown",
   "metadata": {},
   "source": [
    "### Target function"
   ]
  },
  {
   "cell_type": "code",
   "execution_count": 3,
   "metadata": {},
   "outputs": [],
   "source": [
    "Y = lambda x : math.sin(x) + 0.3*x"
   ]
  },
  {
   "cell_type": "markdown",
   "metadata": {},
   "source": [
    "### Draw samples and add noise "
   ]
  },
  {
   "cell_type": "code",
   "execution_count": 4,
   "metadata": {},
   "outputs": [
    {
     "name": "stdout",
     "output_type": "stream",
     "text": [
      "[6.39426798 0.25010755 2.75029318]\n",
      "[2.14074013 0.69077604 1.54482768]\n"
     ]
    }
   ],
   "source": [
    "x = np.array([random.random()*dim_x_max for _ in [1]*sample_size])\n",
    "y = np.array([Y(ele) + random.random()*0.5 for ele in x])\n",
    "print(x)\n",
    "print(y)"
   ]
  },
  {
   "cell_type": "markdown",
   "metadata": {},
   "source": [
    "### Create the model\n",
    "#### Model parameter\n",
    "$\\hat\\beta=(X^TX)^{-1}X^Ty$\n"
   ]
  },
  {
   "cell_type": "code",
   "execution_count": 5,
   "metadata": {},
   "outputs": [],
   "source": [
    "B = np.array((np.ones(len(x)), x)).T\n",
    "bhat0 , bhat1 = np.linalg.inv(B.T @ B) @ (B.T @ y)"
   ]
  },
  {
   "cell_type": "markdown",
   "metadata": {},
   "source": [
    "#### Create the prediction function\n",
    "$\\hat Y(x)=\\hat\\beta_0+\\hat\\beta_1x$"
   ]
  },
  {
   "cell_type": "code",
   "execution_count": 6,
   "metadata": {},
   "outputs": [],
   "source": [
    "Yhat = lambda x: bhat0 + bhat1*x"
   ]
  },
  {
   "cell_type": "markdown",
   "metadata": {},
   "source": [
    "### Plot the predictin function"
   ]
  },
  {
   "cell_type": "code",
   "execution_count": 7,
   "metadata": {},
   "outputs": [
    {
     "data": {
      "image/png": "[encoded data removed]",
      "text/plain": [
       "<Figure size 720x432 with 1 Axes>"
      ]
     },
     "metadata": {
      "needs_background": "light"
     },
     "output_type": "display_data"
    }
   ],
   "source": [
    "plt.rcParams[\"figure.figsize\"] = (10,6)\n",
    "sc = plt.scatter(x,y)\n",
    "linreg = plt.plot(np.linspace(0,10,10), [Yhat(ele) for ele in np.linspace(0,10,10)], color='red')\n",
    "plt.title(f'Linear Regression \\n bh0 = {round(bhat0,3)} and bh1 = {round(bhat1,3)}')\n",
    "\n",
    "plt.show()"
   ]
  },
  {
   "cell_type": "markdown",
   "metadata": {},
   "source": [
    "### References\n",
    "*   Hastie, Trevor ; Tibshirani, Robert ; Friedman, Jerome: The Elements of Statistical Learning : Data Mining, Inference, and Prediction. Berlin-Heidelberg: Springer New York, 2017."
   ]
  }
 ],
 "metadata": {
  "kernelspec": {
   "display_name": "Python 3",
   "language": "python",
   "name": "python3"
  },
  "language_info": {
   "codemirror_mode": {
    "name": "ipython",
    "version": 3
   },
   "file_extension": ".py",
   "mimetype": "text/x-python",
   "name": "python",
   "nbconvert_exporter": "python",
   "pygments_lexer": "ipython3",
   "version": "3.10.4"
  },
  "vscode": {
   "interpreter": {
    "hash": "27490b6f20d508d270516a362acef72cd265c8401e30f8ea7abb1e7e2724f864"
   }
  }
 },
 "nbformat": 4,
 "nbformat_minor": 2
}
